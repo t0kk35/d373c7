{
 "cells": [
  {
   "cell_type": "markdown",
   "metadata": {},
   "source": [
    "# Recurrent Neural Net (RNN) w/Custom Attention"
   ]
  },
  {
   "cell_type": "markdown",
   "metadata": {},
   "source": [
    "---\n",
    "#### Note on the data set \n",
    "The data set used here (https://www.kaggle.com/datasets/ealaxi/banksim1) is not particularly complex and/or big. It's not really all that challenging to find the fraud. In an ideal world we'd be using more complex data sets to show the real power of Deep Learning. There are a bunch of PCA'ed data sets available, but the PCA obfuscates some of the elements that are useful. \n",
    "*These examples are meant to show the possibilities, it's not so useful to interpret their performance on this data set*"
   ]
  },
  {
   "cell_type": "markdown",
   "metadata": {},
   "source": [
    "## Imports"
   ]
  },
  {
   "cell_type": "code",
   "execution_count": 1,
   "metadata": {},
   "outputs": [],
   "source": [
    "import torch\n",
    "import numpy as np\n",
    "import pandas as pd\n",
    "import datetime as dt\n",
    "import gc\n",
    "\n",
    "import d373c7.features as ft\n",
    "import d373c7.engines as en\n",
    "import d373c7.pytorch as pt\n",
    "import d373c7.pytorch.models as pm\n",
    "import d373c7.plot as pl"
   ]
  },
  {
   "cell_type": "markdown",
   "metadata": {},
   "source": [
    "## Set a random seed for Numpy and Torch\n",
    "> Will make sure we always sample in the same way. Makes it easier to compare results. At some point it should been removed to test the model stability."
   ]
  },
  {
   "cell_type": "code",
   "execution_count": 2,
   "metadata": {},
   "outputs": [],
   "source": [
    "# Numpy\n",
    "np.random.seed(42)\n",
    "# Torch\n",
    "torch.manual_seed(42)\n",
    "torch.backends.cudnn.deterministic = True\n",
    "torch.backends.cudnn.benchmark = False"
   ]
  },
  {
   "cell_type": "code",
   "execution_count": 3,
   "metadata": {},
   "outputs": [],
   "source": [
    "# Change this to read from another location\n",
    "file = '../../../../data/bs140513_032310.csv'"
   ]
  },
  {
   "cell_type": "markdown",
   "metadata": {},
   "source": [
    "## Define base feature and read the File\n",
    "The base features are features found in the input file. They need to be defined after which the file can be read using the `EnginePandasNumpy`. Using the `from_csv` method."
   ]
  },
  {
   "cell_type": "code",
   "execution_count": 4,
   "metadata": {},
   "outputs": [
    {
     "name": "stderr",
     "output_type": "stream",
     "text": [
      "2022-07-17 20:29:21.190 d373c7.engines.common          INFO     Start Engine...\n",
      "2022-07-17 20:29:21.191 d373c7.engines.panda_numpy     INFO     Pandas Version : 1.1.4\n",
      "2022-07-17 20:29:21.191 d373c7.engines.panda_numpy     INFO     Numpy Version : 1.19.2\n",
      "2022-07-17 20:29:21.191 d373c7.engines.panda_numpy     INFO     Building Panda for : Raw from file ../../../../data/bs140513_032310.csv\n",
      "2022-07-17 20:29:21.407 d373c7.engines.panda_numpy     INFO     Building Panda for : <Built Features> from DataFrame. Inference mode <False>\n",
      "2022-07-17 20:29:21.407 d373c7.engines.panda_numpy     INFO     Reshaping DataFrame to: Built Features\n",
      "2022-07-17 20:29:21.414 d373c7.engines.panda_numpy     INFO     Done creating Built Features. Shape=(594643, 8)\n",
      "2022-07-17 20:29:21.881 d373c7.engines.panda_numpy     INFO     Reshaping DataFrame to: Built Features\n",
      "2022-07-17 20:29:21.904 d373c7.engines.panda_numpy     INFO     Reshaping DataFrame to: Raw\n"
     ]
    },
    {
     "data": {
      "text/html": [
       "<div>\n",
       "<style scoped>\n",
       "    .dataframe tbody tr th:only-of-type {\n",
       "        vertical-align: middle;\n",
       "    }\n",
       "\n",
       "    .dataframe tbody tr th {\n",
       "        vertical-align: top;\n",
       "    }\n",
       "\n",
       "    .dataframe thead th {\n",
       "        text-align: right;\n",
       "    }\n",
       "</style>\n",
       "<table border=\"1\" class=\"dataframe\">\n",
       "  <thead>\n",
       "    <tr style=\"text-align: right;\">\n",
       "      <th></th>\n",
       "      <th>date</th>\n",
       "      <th>amount</th>\n",
       "      <th>customer</th>\n",
       "      <th>age</th>\n",
       "      <th>gender</th>\n",
       "      <th>merchant</th>\n",
       "      <th>category</th>\n",
       "      <th>MC_con</th>\n",
       "      <th>fraud</th>\n",
       "    </tr>\n",
       "  </thead>\n",
       "  <tbody>\n",
       "    <tr>\n",
       "      <th>0</th>\n",
       "      <td>2020-01-01</td>\n",
       "      <td>4.55</td>\n",
       "      <td>C1093826151</td>\n",
       "      <td>4</td>\n",
       "      <td>M</td>\n",
       "      <td>M348934600</td>\n",
       "      <td>es_transportation</td>\n",
       "      <td>C1093826151M348934600</td>\n",
       "      <td>0</td>\n",
       "    </tr>\n",
       "    <tr>\n",
       "      <th>1</th>\n",
       "      <td>2020-01-01</td>\n",
       "      <td>39.68</td>\n",
       "      <td>C352968107</td>\n",
       "      <td>2</td>\n",
       "      <td>M</td>\n",
       "      <td>M348934600</td>\n",
       "      <td>es_transportation</td>\n",
       "      <td>C352968107M348934600</td>\n",
       "      <td>0</td>\n",
       "    </tr>\n",
       "    <tr>\n",
       "      <th>2</th>\n",
       "      <td>2020-01-01</td>\n",
       "      <td>26.89</td>\n",
       "      <td>C2054744914</td>\n",
       "      <td>4</td>\n",
       "      <td>F</td>\n",
       "      <td>M1823072687</td>\n",
       "      <td>es_transportation</td>\n",
       "      <td>C2054744914M1823072687</td>\n",
       "      <td>0</td>\n",
       "    </tr>\n",
       "    <tr>\n",
       "      <th>3</th>\n",
       "      <td>2020-01-01</td>\n",
       "      <td>17.25</td>\n",
       "      <td>C1760612790</td>\n",
       "      <td>3</td>\n",
       "      <td>M</td>\n",
       "      <td>M348934600</td>\n",
       "      <td>es_transportation</td>\n",
       "      <td>C1760612790M348934600</td>\n",
       "      <td>0</td>\n",
       "    </tr>\n",
       "    <tr>\n",
       "      <th>4</th>\n",
       "      <td>2020-01-01</td>\n",
       "      <td>35.72</td>\n",
       "      <td>C757503768</td>\n",
       "      <td>5</td>\n",
       "      <td>M</td>\n",
       "      <td>M348934600</td>\n",
       "      <td>es_transportation</td>\n",
       "      <td>C757503768M348934600</td>\n",
       "      <td>0</td>\n",
       "    </tr>\n",
       "    <tr>\n",
       "      <th>...</th>\n",
       "      <td>...</td>\n",
       "      <td>...</td>\n",
       "      <td>...</td>\n",
       "      <td>...</td>\n",
       "      <td>...</td>\n",
       "      <td>...</td>\n",
       "      <td>...</td>\n",
       "      <td>...</td>\n",
       "      <td>...</td>\n",
       "    </tr>\n",
       "    <tr>\n",
       "      <th>594638</th>\n",
       "      <td>2020-06-28</td>\n",
       "      <td>20.53</td>\n",
       "      <td>C1753498738</td>\n",
       "      <td>3</td>\n",
       "      <td>F</td>\n",
       "      <td>M1823072687</td>\n",
       "      <td>es_transportation</td>\n",
       "      <td>C1753498738M1823072687</td>\n",
       "      <td>0</td>\n",
       "    </tr>\n",
       "    <tr>\n",
       "      <th>594639</th>\n",
       "      <td>2020-06-28</td>\n",
       "      <td>50.73</td>\n",
       "      <td>C650108285</td>\n",
       "      <td>4</td>\n",
       "      <td>F</td>\n",
       "      <td>M1823072687</td>\n",
       "      <td>es_transportation</td>\n",
       "      <td>C650108285M1823072687</td>\n",
       "      <td>0</td>\n",
       "    </tr>\n",
       "    <tr>\n",
       "      <th>594640</th>\n",
       "      <td>2020-06-28</td>\n",
       "      <td>22.44</td>\n",
       "      <td>C123623130</td>\n",
       "      <td>2</td>\n",
       "      <td>F</td>\n",
       "      <td>M349281107</td>\n",
       "      <td>es_fashion</td>\n",
       "      <td>C123623130M349281107</td>\n",
       "      <td>0</td>\n",
       "    </tr>\n",
       "    <tr>\n",
       "      <th>594641</th>\n",
       "      <td>2020-06-28</td>\n",
       "      <td>14.46</td>\n",
       "      <td>C1499363341</td>\n",
       "      <td>5</td>\n",
       "      <td>M</td>\n",
       "      <td>M1823072687</td>\n",
       "      <td>es_transportation</td>\n",
       "      <td>C1499363341M1823072687</td>\n",
       "      <td>0</td>\n",
       "    </tr>\n",
       "    <tr>\n",
       "      <th>594642</th>\n",
       "      <td>2020-06-28</td>\n",
       "      <td>26.93</td>\n",
       "      <td>C616528518</td>\n",
       "      <td>4</td>\n",
       "      <td>F</td>\n",
       "      <td>M1823072687</td>\n",
       "      <td>es_transportation</td>\n",
       "      <td>C616528518M1823072687</td>\n",
       "      <td>0</td>\n",
       "    </tr>\n",
       "  </tbody>\n",
       "</table>\n",
       "<p>594643 rows × 9 columns</p>\n",
       "</div>"
      ],
      "text/plain": [
       "             date  amount     customer age gender     merchant  \\\n",
       "0      2020-01-01    4.55  C1093826151   4      M   M348934600   \n",
       "1      2020-01-01   39.68   C352968107   2      M   M348934600   \n",
       "2      2020-01-01   26.89  C2054744914   4      F  M1823072687   \n",
       "3      2020-01-01   17.25  C1760612790   3      M   M348934600   \n",
       "4      2020-01-01   35.72   C757503768   5      M   M348934600   \n",
       "...           ...     ...          ...  ..    ...          ...   \n",
       "594638 2020-06-28   20.53  C1753498738   3      F  M1823072687   \n",
       "594639 2020-06-28   50.73   C650108285   4      F  M1823072687   \n",
       "594640 2020-06-28   22.44   C123623130   2      F   M349281107   \n",
       "594641 2020-06-28   14.46  C1499363341   5      M  M1823072687   \n",
       "594642 2020-06-28   26.93   C616528518   4      F  M1823072687   \n",
       "\n",
       "                 category                  MC_con  fraud  \n",
       "0       es_transportation   C1093826151M348934600      0  \n",
       "1       es_transportation    C352968107M348934600      0  \n",
       "2       es_transportation  C2054744914M1823072687      0  \n",
       "3       es_transportation   C1760612790M348934600      0  \n",
       "4       es_transportation    C757503768M348934600      0  \n",
       "...                   ...                     ...    ...  \n",
       "594638  es_transportation  C1753498738M1823072687      0  \n",
       "594639  es_transportation   C650108285M1823072687      0  \n",
       "594640         es_fashion    C123623130M349281107      0  \n",
       "594641  es_transportation  C1499363341M1823072687      0  \n",
       "594642  es_transportation   C616528518M1823072687      0  \n",
       "\n",
       "[594643 rows x 9 columns]"
      ]
     },
     "execution_count": 4,
     "metadata": {},
     "output_type": "execute_result"
    }
   ],
   "source": [
    "step = ft.FeatureSource('step', ft.FEATURE_TYPE_INT_16) \n",
    "customer = ft.FeatureSource('customer', ft.FEATURE_TYPE_STRING)\n",
    "age = ft.FeatureSource('age', ft.FEATURE_TYPE_CATEGORICAL)\n",
    "gender = ft.FeatureSource('gender', ft.FEATURE_TYPE_CATEGORICAL)\n",
    "merchant = ft.FeatureSource('merchant', ft.FEATURE_TYPE_CATEGORICAL)\n",
    "category = ft.FeatureSource('category', ft.FEATURE_TYPE_CATEGORICAL)\n",
    "amount = ft.FeatureSource('amount', ft.FEATURE_TYPE_FLOAT)\n",
    "fraud = ft.FeatureSource('fraud', ft.FEATURE_TYPE_INT_8)\n",
    "\n",
    "age_i = ft.FeatureIndex('age_one_hot', ft.FEATURE_TYPE_INT_8, age)\n",
    "gender_i = ft.FeatureIndex('gender_one_hot', ft.FEATURE_TYPE_INT_8, gender)\n",
    "merchant_i = ft.FeatureIndex('merchant_one_hot', ft.FEATURE_TYPE_INT_8, merchant)\n",
    "category_i = ft.FeatureIndex('category_one_hot', ft.FEATURE_TYPE_INT_8, category)\n",
    "\n",
    "customer_merchant = ft.FeatureConcat('MC_con', ft.FEATURE_TYPE_STRING, customer, merchant)\n",
    "fraud_label = ft.FeatureLabelBinary('fraud_label', ft.FEATURE_TYPE_INT_8, fraud)\n",
    "\n",
    "def step_to_date(step_count: int):\n",
    "    return dt.datetime(2020, 1, 1) + dt.timedelta(days=int(step_count))\n",
    "\n",
    "date_time = ft.FeatureExpression('date', ft.FEATURE_TYPE_DATE_TIME, step_to_date, [step])\n",
    "\n",
    "\n",
    "raw_features = ft.TensorDefinition('Raw', [\n",
    "    date_time,\n",
    "    amount,\n",
    "    customer,\n",
    "    age,\n",
    "    gender, \n",
    "    merchant,\n",
    "    category,\n",
    "    customer_merchant,\n",
    "    fraud\n",
    "])\n",
    "\n",
    "with en.EnginePandasNumpy(num_threads=2) as e:\n",
    "    df_raw = e.from_csv(raw_features, file, inference=False)\n",
    "\n",
    "df_raw"
   ]
  },
  {
   "cell_type": "code",
   "execution_count": 5,
   "metadata": {},
   "outputs": [
    {
     "name": "stderr",
     "output_type": "stream",
     "text": [
      "2022-07-17 20:29:23.607 d373c7.engines.common          INFO     Start Engine...\n",
      "2022-07-17 20:29:23.607 d373c7.engines.panda_numpy     INFO     Pandas Version : 1.1.4\n",
      "2022-07-17 20:29:23.607 d373c7.engines.panda_numpy     INFO     Numpy Version : 1.19.2\n",
      "2022-07-17 20:29:23.607 d373c7.engines.panda_numpy     INFO     Building Panda for : ref_features from file ../../../../data/bs140513_032310.csv\n",
      "2022-07-17 20:29:23.771 d373c7.engines.panda_numpy     INFO     Building Panda for : <Built Features> from DataFrame. Inference mode <False>\n",
      "2022-07-17 20:29:23.771 d373c7.engines.panda_numpy     INFO     Reshaping DataFrame to: Built Features\n",
      "2022-07-17 20:29:23.772 d373c7.engines.panda_numpy     INFO     Done creating Built Features. Shape=(594643, 4)\n",
      "2022-07-17 20:29:23.791 d373c7.engines.panda_numpy     INFO     Reshaping DataFrame to: Built Features\n",
      "2022-07-17 20:29:23.793 d373c7.engines.panda_numpy     INFO     Reshaping DataFrame to: ref_features\n",
      "2022-07-17 20:29:23.795 d373c7.engines.panda_numpy     INFO     Converting DataFrame to Numpy of type: int8\n",
      "2022-07-17 20:29:23.795 d373c7.engines.panda_numpy     INFO     Reshaping DataFrame to: Categorical\n",
      "2022-07-17 20:29:23.797 d373c7.engines.panda_numpy     INFO     Building Panda for : InternalFrequenciesTime from file ../../../../data/bs140513_032310.csv\n",
      "2022-07-17 20:29:23.965 d373c7.engines.panda_numpy     INFO     Building Panda for : <Built Features> from DataFrame. Inference mode <False>\n",
      "2022-07-17 20:29:23.965 d373c7.engines.panda_numpy     INFO     Reshaping DataFrame to: Built Features\n",
      "2022-07-17 20:29:23.970 d373c7.engines.panda_numpy     INFO     Done creating Built Features. Shape=(594643, 4)\n",
      "2022-07-17 20:29:24.420 d373c7.engines.panda_numpy     INFO     Reshaping DataFrame to: Built Features\n",
      "2022-07-17 20:29:24.444 d373c7.engines.panda_numpy     INFO     Reshaping DataFrame to: InternalFrequenciesTime\n",
      "2022-07-17 20:29:24.454 d373c7.engines.panda_numpy     INFO     Start creating aggregate grouper feature for <MC_con> using 1 process(es)\n",
      "2022-07-17 20:29:25.573 d373c7.engines.panda_numpy     INFO     Done creating aggregate grouper features for <MC_con>.\n",
      "2022-07-17 20:29:25.573 d373c7.engines.panda_numpy     INFO     Start creating aggregate grouper feature for <customer> using 1 process(es)\n",
      "2022-07-17 20:29:26.557 d373c7.engines.panda_numpy     INFO     Done creating aggregate grouper features for <customer>.\n",
      "2022-07-17 20:29:26.844 d373c7.engines.panda_numpy     INFO     Done creating learning. Shapes=[(594643, 10, 8)]\n",
      "2022-07-17 20:29:26.862 d373c7.engines.panda_numpy     INFO     Building Panda for : label from file ../../../../data/bs140513_032310.csv\n",
      "2022-07-17 20:29:26.977 d373c7.engines.panda_numpy     INFO     Building Panda for : <Built Features> from DataFrame. Inference mode <False>\n",
      "2022-07-17 20:29:26.978 d373c7.engines.panda_numpy     INFO     Reshaping DataFrame to: Built Features\n",
      "2022-07-17 20:29:26.979 d373c7.engines.panda_numpy     INFO     Done creating Built Features. Shape=(594643, 1)\n",
      "2022-07-17 20:29:26.981 d373c7.engines.panda_numpy     INFO     Reshaping DataFrame to: Built Features\n",
      "2022-07-17 20:29:26.982 d373c7.engines.panda_numpy     INFO     Reshaping DataFrame to: label\n",
      "2022-07-17 20:29:26.983 d373c7.engines.panda_numpy     INFO     Converting DataFrame to Numpy of type: int8\n",
      "2022-07-17 20:29:26.983 d373c7.engines.panda_numpy     INFO     Reshaping DataFrame to: Label\n"
     ]
    }
   ],
   "source": [
    "# This feature will return the 10 day sum of the amount, for the customer\n",
    "amount_cust_10d_sum = ft.FeatureGrouper(\n",
    "    'amount_cust_10d_sum',               # Name of the feature\n",
    "    ft.FEATURE_TYPE_FLOAT_32,            # Make the feature a type float\n",
    "    amount,                              # Aggregate the amount\n",
    "    customer,                            # Group over customer\n",
    "    None,\n",
    "    ft.TIME_PERIOD_DAY,                  # Make the period element a day\n",
    "    10,                                  # Aggregate 10 days\n",
    "    ft.AGGREGATOR_SUM                    # Take the sum over the period elements.\n",
    ")\n",
    "# This feature will return the 10 day max of the amount, for the customer\n",
    "amount_cust_10d_cnt = ft.FeatureGrouper(\n",
    "    'amount_cust_10d_cnt',               # Name of the feature\n",
    "    ft.FEATURE_TYPE_FLOAT_32,            # Make the feature a type float\n",
    "    amount,                              # Aggregate the amount\n",
    "    customer,                            # Group over customer/merchant\n",
    "    None,\n",
    "    ft.TIME_PERIOD_DAY,                  # Make the period element a day\n",
    "    10,                                  # Aggregate 10 days\n",
    "    ft.AGGREGATOR_COUNT                  # Take the count over the period elements.\n",
    ")\n",
    "# This feature will return the 10 day maximum of the amount, for the customer\n",
    "amount_cust_10d_max = ft.FeatureGrouper(\n",
    "    'amount_cust_10d_max',               # Name of the feature\n",
    "    ft.FEATURE_TYPE_FLOAT_32,            # Make the feature a type float\n",
    "    amount,                              # Aggregate the amount\n",
    "    customer,                            # Group over customer/merchant\n",
    "    None,\n",
    "    ft.TIME_PERIOD_DAY,                  # Make the period element a day\n",
    "    10,                                  # Aggregate 10 days\n",
    "    ft.AGGREGATOR_MAX                    # Take the max over the period elements.\n",
    ")\n",
    "\n",
    "# This feature will return the 10 day average of the amount, for the customer\n",
    "amount_cust_10d_avg = ft.FeatureGrouper(\n",
    "    'amount_cust_10d_avg',               # Name of the feature\n",
    "    ft.FEATURE_TYPE_FLOAT_32,            # Make the feature a type float\n",
    "    amount,                              # Aggregate the amount\n",
    "    customer,                            # Group over customer/merchant\n",
    "    None,\n",
    "    ft.TIME_PERIOD_DAY,                  # Make the period element a day\n",
    "    10,                                  # Aggregate 10 days\n",
    "    ft.AGGREGATOR_AVG                    # Take the average over the period elements.\n",
    ")\n",
    "\n",
    "# This feature will return the 10 day sum of the amount, for the customer-merchant relation\n",
    "amount_cust_merch_10d_sum = ft.FeatureGrouper(\n",
    "    'amount_cust_merc_10d_sum',          # Name of the feature\n",
    "    ft.FEATURE_TYPE_FLOAT_32,            # Make the feature a type float\n",
    "    amount,                              # Aggregate the amount\n",
    "    customer_merchant,                   # Group over customer/merchant\n",
    "    None,\n",
    "    ft.TIME_PERIOD_DAY,                  # Make the period element a day\n",
    "    10,                                  # Aggregate 10 days\n",
    "    ft.AGGREGATOR_SUM                    # Take the sum over the period elements.\n",
    ")\n",
    "\n",
    "# This feature will return the 10 day count of the amount, for the customer-merchant relation\n",
    "amount_cust_merch_10d_cnt = ft.FeatureGrouper(\n",
    "    'amount_cust_merc_10d_count',        # Name of the feature\n",
    "    ft.FEATURE_TYPE_FLOAT_32,            # Make the feature a type float\n",
    "    amount,                              # Aggregate the amount\n",
    "    customer_merchant,                   # Group over customer/merchant\n",
    "    None,\n",
    "    ft.TIME_PERIOD_DAY,                  # Make the period element a day\n",
    "    10,                                  # Aggregate 10 days\n",
    "    ft.AGGREGATOR_COUNT                  # Take the count over the period elements.\n",
    ")\n",
    "\n",
    "\n",
    "# This feature will return the 10 day max of the amount, for the customer-merchant relation\n",
    "amount_cust_merch_10d_max = ft.FeatureGrouper(\n",
    "    'amount_cust_merc_10d_max',          # Name of the feature\n",
    "    ft.FEATURE_TYPE_FLOAT_32,            # Make the feature a type float\n",
    "    amount,                              # Aggregate the amount\n",
    "    customer_merchant,                   # Group over customer/merchant\n",
    "    None,\n",
    "    ft.TIME_PERIOD_DAY,                  # Make the period element a day\n",
    "    10,                                  # Aggregate 10 days\n",
    "    ft.AGGREGATOR_MAX                    # Take the max over the period elements.\n",
    ")\n",
    "\n",
    "# This feature will return the 10 day average of the amount, for the customer-merchant relation\n",
    "amount_cust_merch_10d_avg = ft.FeatureGrouper(\n",
    "    'amount_cust_merc_10d_avg',          # Name of the feature\n",
    "    ft.FEATURE_TYPE_FLOAT_32,            # Make the feature a type float\n",
    "    amount,                              # Aggregate the amount\n",
    "    customer_merchant,                   # Group over customer/merchant\n",
    "    None,\n",
    "    ft.TIME_PERIOD_DAY,                  # Make the period element a day\n",
    "    10,                                  # Aggregate 10 days\n",
    "    ft.AGGREGATOR_AVG                    # Take the average over the period elements.\n",
    ")\n",
    "\n",
    "amount_cust_10d_sum_scale = ft.FeatureNormalizeScale(\n",
    "    'amount_cust_10d_sum_scale', \n",
    "    ft.FEATURE_TYPE_FLOAT_32, \n",
    "    amount_cust_10d_sum\n",
    ")\n",
    "\n",
    "amount_cust_10d_cnt_scale = ft.FeatureNormalizeScale(\n",
    "    'amount_cust_10d_cnt_scale', \n",
    "    ft.FEATURE_TYPE_FLOAT_32, \n",
    "    amount_cust_10d_cnt\n",
    ")\n",
    "\n",
    "amount_cust_10d_max_scale = ft.FeatureNormalizeScale(\n",
    "    'amount_cust_10d_max_scale', \n",
    "    ft.FEATURE_TYPE_FLOAT_32, \n",
    "    amount_cust_10d_max\n",
    ")\n",
    "\n",
    "amount_cust_10d_avg_scale = ft.FeatureNormalizeScale(\n",
    "    'amount_cust_10d_avg_scale', \n",
    "    ft.FEATURE_TYPE_FLOAT_32, \n",
    "    amount_cust_10d_avg\n",
    ")\n",
    "\n",
    "amount_cust_merch_10d_sum_scale = ft.FeatureNormalizeScale(\n",
    "    'amount_cust_merch_10d_sum_scale', \n",
    "    ft.FEATURE_TYPE_FLOAT_32, \n",
    "    amount_cust_merch_10d_sum\n",
    ")\n",
    "\n",
    "amount_cust_merch_10d_cnt_scale = ft.FeatureNormalizeScale(\n",
    "    'amount_cust_merch_10d_cnt_scale', \n",
    "    ft.FEATURE_TYPE_FLOAT_32, \n",
    "    amount_cust_merch_10d_cnt\n",
    ")\n",
    "\n",
    "amount_cust_merch_10d_max_scale = ft.FeatureNormalizeScale(\n",
    "    'amount_cust_merch_10d_max_scale', \n",
    "    ft.FEATURE_TYPE_FLOAT_32, \n",
    "    amount_cust_merch_10d_max\n",
    ")\n",
    "\n",
    "amount_cust_merch_10d_avg_scale = ft.FeatureNormalizeScale(\n",
    "    'amount_cust_merch_10d_avg_scale', \n",
    "    ft.FEATURE_TYPE_FLOAT_32, \n",
    "    amount_cust_merch_10d_avg\n",
    ")\n",
    "\n",
    "freq_features = ft.TensorDefinition(\n",
    "    'learning', \n",
    "    [\n",
    "        amount_cust_10d_sum_scale,\n",
    "        amount_cust_10d_cnt_scale,\n",
    "        amount_cust_10d_max_scale,\n",
    "        amount_cust_10d_avg_scale,\n",
    "        amount_cust_merch_10d_sum_scale,\n",
    "        amount_cust_merch_10d_cnt_scale,\n",
    "        amount_cust_merch_10d_max_scale,\n",
    "        amount_cust_merch_10d_avg_scale\n",
    "    ])\n",
    "\n",
    "ref_features = ft.TensorDefinition('ref_features', [\n",
    "    age_i,\n",
    "    gender_i,\n",
    "    category_i,\n",
    "    merchant_i\n",
    "])\n",
    "\n",
    "\n",
    "label = ft.TensorDefinition('label', [fraud_label])\n",
    "\n",
    "model_features = ft.TensorDefinitionMulti([freq_features, ref_features, label])\n",
    "\n",
    "with en.EnginePandasNumpy(num_threads=1) as e:\n",
    "    ref_df = e.from_csv(ref_features, file, inference=False)\n",
    "    ref_np = e.to_numpy_list(ref_features, ref_df) \n",
    "    ser_np = e.to_series_frequencies(freq_features, file, time_feature=date_time, inference=False)\n",
    "    lb_df = e.from_csv(label, file, inference=False)\n",
    "    lb_np = e.to_numpy_list(label, lb_df)\n",
    "    data_list = en.NumpyList(ser_np.lists + ref_np.lists + lb_np.lists)"
   ]
  },
  {
   "cell_type": "markdown",
   "metadata": {},
   "source": [
    "## Wrangle the data\n",
    "Time to split the data. For time series data it is very important to keep the order of the data. Below split will start from the end and work it's way to the front of the data. Doing so the training, validation and test data are nicely colocated in time. You almost *never* want to plain shuffle time based data.\n",
    "\n",
    "> 1. Split out a test-set of size `test_records`. This is used for model testing.\n",
    "> 2. Split out a validation-set of size `validation_records`. It will be used to monitor overfitting during training\n",
    "> 3. All the rest is considered training data.\n",
    "\n",
    "For time-series we'll perform an additional action.\n",
    "> 1. The series at the beginning of the data set will all be more or less empty as there is no history, that is not so useful during training, ideally we have records with history and complete series, sometimes named 'mature' series. We'll throw away the first couple of entries.\n",
    "\n",
    "__Important__; please make sure the data is ordered in ascending fashion on a date(time) field. The split function does not order the data, it assumes the data is in the correct order."
   ]
  },
  {
   "cell_type": "code",
   "execution_count": 6,
   "metadata": {},
   "outputs": [
    {
     "name": "stdout",
     "output_type": "stream",
     "text": [
      "Training Data shapes [(434643, 10, 8), (434643, 4), (434643,)]\n",
      "Validation Data shapes [(30000, 10, 8), (30000, 4), (30000,)]\n",
      "Test Data shapes [(100000, 10, 8), (100000, 4), (100000,)]\n",
      "Done\n"
     ]
    }
   ],
   "source": [
    "test_records = 100000\n",
    "val_records  = 30000 \n",
    "maturation   = 30000\n",
    "\n",
    "train_data, val_data, test_data = data_list.split_time(val_records, test_records) \n",
    "train_data = train_data[maturation:]\n",
    "\n",
    "print(f'Training Data shapes {train_data.shapes}')\n",
    "print(f'Validation Data shapes {val_data.shapes}')\n",
    "print(f'Test Data shapes {test_data.shapes}')\n",
    "del data_list, ser_np, lb_np, lb_df\n",
    "gc.collect()\n",
    "print('Done')"
   ]
  },
  {
   "cell_type": "markdown",
   "metadata": {},
   "source": [
    "## Set-up Devices"
   ]
  },
  {
   "cell_type": "code",
   "execution_count": 7,
   "metadata": {},
   "outputs": [
    {
     "name": "stderr",
     "output_type": "stream",
     "text": [
      "2022-07-17 20:29:30.744 d373c7.pytorch.common          INFO     Torch Version : 1.11.0+cu113\n",
      "2022-07-17 20:29:30.803 d373c7.pytorch.common          INFO     GPU found. Using GPU <0>\n",
      "2022-07-17 20:29:30.803 d373c7.pytorch.common          INFO     Cuda Version  : 11.3\n"
     ]
    }
   ],
   "source": [
    "device, cpu = pt.init_devices()"
   ]
  },
  {
   "cell_type": "markdown",
   "metadata": {},
   "source": [
    "## Build the model\n",
    "\n",
    "> In this example we still use a `GeneratedClassifier` model. We give it the TensorDefinitionMulti object containing our various tensor definitions. As there is now TensorDefinition that has 3D data (our transaction series; which has Batch x Series x Feature shape), the model will use a layer capable of handling 3D Tensors. We ask it to use *16* recurrent features and add 1 layer of *8* linear features after that."
   ]
  },
  {
   "cell_type": "code",
   "execution_count": 8,
   "metadata": {},
   "outputs": [
    {
     "name": "stdout",
     "output_type": "stream",
     "text": [
      "GeneratedClassifier(\n",
      "  Number of parameters : 3044. Loss : SingleLabelBCELoss,  mean\n",
      "  (streams): ModuleList(\n",
      "    (0): Sequential(\n",
      "      (learning): TensorDefinitionHead(lcs=['Continuous'])\n",
      "      (Attention): AttentionLastEntry(heads=1, hidden_size=8)\n",
      "      (Recurrent): LSTMBody(\n",
      "        (rnn): LSTM(8, 8, batch_first=True)\n",
      "      )\n",
      "    )\n",
      "    (1): TensorDefinitionHead(\n",
      "      lcs=['Categorical']\n",
      "      (embedding): Embedding(\n",
      "        (embeddings): ModuleList(\n",
      "          (0): Embedding(9, 4)\n",
      "          (1): Embedding(5, 4)\n",
      "          (2): Embedding(16, 7)\n",
      "          (3): Embedding(51, 25)\n",
      "        )\n",
      "        (dropout): Dropout(p=0.2, inplace=False)\n",
      "      )\n",
      "    )\n",
      "  )\n",
      "  (tail): TailBinary(\n",
      "    (layers): Sequential(\n",
      "      (tail_lin_01): Linear(in_features=48, out_features=16, bias=True)\n",
      "      (tail_act_01): ReLU()\n",
      "      (tail_dropout_01): Dropout(p=0.1, inplace=False)\n",
      "      (tail_batch_norm): BatchNorm1d(16, eps=1e-05, momentum=0.1, affine=True, track_running_stats=True)\n",
      "      (tail_binary): Linear(in_features=16, out_features=1, bias=True)\n",
      "      (tail_bin_act): Sigmoid()\n",
      "    )\n",
      "  )\n",
      ")\n"
     ]
    }
   ],
   "source": [
    "# Setup Pytorch Datasets for the training and validation\n",
    "batch_size = 128\n",
    "train_ds = pt.NumpyListDataSetMulti(model_features, train_data)\n",
    "val_ds = pt.NumpyListDataSetMulti(model_features, val_data)\n",
    "train_sampler = pt.ClassSamplerMulti(model_features, train_data).over_sampler()\n",
    "\n",
    "# Wrap them in a Pytorch Dataloader\n",
    "train_dl = train_ds.data_loader(cpu, batch_size, num_workers=2, sampler=train_sampler)\n",
    "val_dl = val_ds.data_loader(cpu, batch_size, num_workers=2)\n",
    "\n",
    "d = pm.ClassifierDefaults()\n",
    "d.recurrent_dense = False\n",
    "\n",
    "\n",
    "# Create a Model\n",
    "m = pm.GeneratedClassifier(model_features, c_defaults=d, recurrent_features=8, attention_heads=1, linear_layers=[16])\n",
    "\n",
    "print(m)"
   ]
  },
  {
   "cell_type": "markdown",
   "metadata": {},
   "source": [
    "# Start Training"
   ]
  },
  {
   "cell_type": "markdown",
   "metadata": {},
   "source": [
    "### First find a decent Learning Rate. \n",
    "> Create a trainer and run the find_lr function and plot. This functions iterates over the batches gradually increasing the learning rate from a minimum to a maximum learning rate."
   ]
  },
  {
   "cell_type": "code",
   "execution_count": 9,
   "metadata": {},
   "outputs": [
    {
     "name": "stderr",
     "output_type": "stream",
     "text": [
      "2022-07-17 20:29:57.369 d373c7.pytorch.training        INFO     Saving model under ./temp_model.pt\n",
      "Finding LR in 200 steps: 100%|██████████| 200/200 [00:00<00:00, 252.57it/s]\n",
      "2022-07-17 20:30:00.264 d373c7.pytorch.training        INFO     Restoring model from ./temp_model.pt\n"
     ]
    },
    {
     "data": {
      "image/png": "[encoded data removed]",
      "text/plain": [
       "<Figure size 432x288 with 1 Axes>"
      ]
     },
     "metadata": {},
     "output_type": "display_data"
    }
   ],
   "source": [
    "t = pt.Trainer(m, device, train_dl, val_dl)\n",
    "r = t.find_lr(1e-4, 1e-1, 200)\n",
    "pl.TrainPlot().plot_lr(r)"
   ]
  },
  {
   "cell_type": "markdown",
   "metadata": {},
   "source": [
    "## Start Training and plot the results\n",
    "> We train for __10 epochs__ and __learning rate 5e-3__. That means we run over the total training data set a total of 10 times/epochs where the model learns, after each epoch we use the trained model and perform a test run on the validation set."
   ]
  },
  {
   "cell_type": "code",
   "execution_count": 10,
   "metadata": {},
   "outputs": [
    {
     "name": "stderr",
     "output_type": "stream",
     "text": [
      "Epoch 001/010: 100%|██████████| 3631/3631 [00:11<00:00, 317.88it/s, train_loss=0.129, train_acc=0.957, val_loss=0.0386, val_acc=0.986]\n",
      "Epoch 002/010: 100%|██████████| 3631/3631 [00:10<00:00, 332.52it/s, train_loss=0.0534, train_acc=0.98, val_loss=0.0427, val_acc=0.983]\n",
      "Epoch 003/010: 100%|██████████| 3631/3631 [00:11<00:00, 326.42it/s, train_loss=0.0493, train_acc=0.982, val_loss=0.0433, val_acc=0.982]\n",
      "Epoch 004/010: 100%|██████████| 3631/3631 [00:11<00:00, 320.22it/s, train_loss=0.0471, train_acc=0.984, val_loss=0.0347, val_acc=0.986]\n",
      "Epoch 005/010: 100%|██████████| 3631/3631 [00:11<00:00, 323.56it/s, train_loss=0.0428, train_acc=0.986, val_loss=0.0274, val_acc=0.989]\n",
      "Epoch 006/010: 100%|██████████| 3631/3631 [00:11<00:00, 321.90it/s, train_loss=0.0405, train_acc=0.986, val_loss=0.03, val_acc=0.989]\n",
      "Epoch 007/010: 100%|██████████| 3631/3631 [00:11<00:00, 324.02it/s, train_loss=0.0376, train_acc=0.987, val_loss=0.028, val_acc=0.99]\n",
      "Epoch 008/010: 100%|██████████| 3631/3631 [00:11<00:00, 320.42it/s, train_loss=0.0364, train_acc=0.988, val_loss=0.0287, val_acc=0.99]\n",
      "Epoch 009/010: 100%|██████████| 3631/3631 [00:11<00:00, 324.06it/s, train_loss=0.0362, train_acc=0.988, val_loss=0.029, val_acc=0.99]\n",
      "Epoch 010/010: 100%|██████████| 3631/3631 [00:11<00:00, 325.47it/s, train_loss=0.0353, train_acc=0.988, val_loss=0.0281, val_acc=0.99]\n"
     ]
    },
    {
     "data": {
      "image/png": "[encoded data removed]",
      "text/plain": [
       "<Figure size 720x720 with 2 Axes>"
      ]
     },
     "metadata": {},
     "output_type": "display_data"
    }
   ],
   "source": [
    "t = pt.Trainer(m, device, train_dl, val_dl)\n",
    "h = t.train_one_cycle(10, 5e-3)\n",
    "pl.TrainPlot().plot_history(h, fig_size=(10,10))"
   ]
  },
  {
   "cell_type": "markdown",
   "metadata": {},
   "source": [
    "## Test the model on the test data\n",
    "\n",
    "> Test the model on the test set, it is data that was not seen during training and allows us to validate model results. We can see that this model performs quite well. It's one of the better performing models thus far. But maybe that should not be a surprise, this is seeing a lot of information on the customers recent history as well as referential information on the current payment."
   ]
  },
  {
   "cell_type": "code",
   "execution_count": 11,
   "metadata": {},
   "outputs": [
    {
     "name": "stderr",
     "output_type": "stream",
     "text": [
      "Testing in 782 steps: 100%|██████████| 782/782 [00:00<00:00, 870.09it/s]\n"
     ]
    },
    {
     "name": "stdout",
     "output_type": "stream",
     "text": [
      "------------- Classification report -----------------\n",
      "              precision    recall  f1-score   support\n",
      "\n",
      "         0.0       1.00      0.99      1.00     98926\n",
      "         1.0       0.54      0.99      0.70      1074\n",
      "\n",
      "    accuracy                           0.99    100000\n",
      "   macro avg       0.77      0.99      0.85    100000\n",
      "weighted avg       0.99      0.99      0.99    100000\n",
      "\n",
      "\n",
      "auc score : 0.9993\n",
      "ap score  : 0.9393\n",
      "-----------------------------------------------------\n"
     ]
    },
    {
     "data": {
      "image/png": "[encoded data removed]",
      "text/plain": [
       "<Figure size 432x432 with 1 Axes>"
      ]
     },
     "metadata": {},
     "output_type": "display_data"
    },
    {
     "data": {
      "image/png": "[encoded data removed]",
      "text/plain": [
       "<Figure size 432x432 with 1 Axes>"
      ]
     },
     "metadata": {},
     "output_type": "display_data"
    },
    {
     "data": {
      "image/png": "[encoded data removed]",
      "text/plain": [
       "<Figure size 432x432 with 1 Axes>"
      ]
     },
     "metadata": {},
     "output_type": "display_data"
    }
   ],
   "source": [
    "test_ds = pt.NumpyListDataSetMulti(model_features, test_data)\n",
    "test_dl = test_ds.data_loader(cpu, 128, num_workers=2)\n",
    "\n",
    "ts = pt.Tester(m, device, test_dl)\n",
    "pr = ts.test_plot()\n",
    "tp = pl.TestPlot()\n",
    "tp.print_classification_report(pr)\n",
    "tp.plot_confusion_matrix(pr, fig_size=(6,6))\n",
    "tp.plot_roc_curve(pr, fig_size=(6,6))\n",
    "tp.plot_precision_recall_curve(pr, fig_size=(6,6))"
   ]
  }
 ],
 "metadata": {
  "kernelspec": {
   "display_name": "Python 3",
   "language": "python",
   "name": "python3"
  },
  "language_info": {
   "codemirror_mode": {
    "name": "ipython",
    "version": 3
   },
   "file_extension": ".py",
   "mimetype": "text/x-python",
   "name": "python",
   "nbconvert_exporter": "python",
   "pygments_lexer": "ipython3",
   "version": "3.8.10"
  }
 },
 "nbformat": 4,
 "nbformat_minor": 4
}
