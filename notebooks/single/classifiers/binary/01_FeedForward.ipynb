{
 "cells": [
  {
   "cell_type": "markdown",
   "metadata": {},
   "source": [
    "# Binary Classifier on Single records"
   ]
  },
  {
   "cell_type": "markdown",
   "metadata": {},
   "source": [
    "### Most basic example.\n",
    "This notebook will show how to set-up the features, read them from a CSV file and create a very simple feed-forward neural net to classify fraud vs. non-fraud.\n",
    "\n",
    "---\n",
    "#### Note on the data set \n",
    "The data set used in not particulary complex and big. It's not really all that challenging to find the fraud. In an ideal world we'd be using more complex data sets to show the real power of Deep Learning. \n",
    "*These examples are meant to show the possibilities, it's not so useful to interpret their performance on this data set*"
   ]
  },
  {
   "cell_type": "markdown",
   "metadata": {},
   "source": [
    "## Imports"
   ]
  },
  {
   "cell_type": "code",
   "execution_count": 1,
   "metadata": {
    "scrolled": false
   },
   "outputs": [],
   "source": [
    "import torch\n",
    "import numpy as np\n",
    "import gc\n",
    "\n",
    "import d373c7.features as ft\n",
    "import d373c7.engines as en\n",
    "import d373c7.pytorch as pt\n",
    "import d373c7.pytorch.models as pm\n",
    "import d373c7.plot as pl"
   ]
  },
  {
   "cell_type": "markdown",
   "metadata": {},
   "source": [
    "# Set up device "
   ]
  },
  {
   "cell_type": "code",
   "execution_count": 2,
   "metadata": {
    "scrolled": false
   },
   "outputs": [
    {
     "name": "stdout",
     "output_type": "stream",
     "text": [
      "Torch Version : 1.6.0\n",
      "Cuda Version  : 10.2\n",
      "GPU found. Using GPU <0>\n"
     ]
    }
   ],
   "source": [
    "print(f'Torch Version : {torch.__version__}')\n",
    "\n",
    "# Set up the GPU if available. This will be the default device\n",
    "if torch.cuda.is_available():\n",
    "    device = torch.device('cuda:0')\n",
    "    print(f'Cuda Version  : {torch.version.cuda}')\n",
    "    print(f'GPU found. Using GPU <{device.index}>')\n",
    "else:\n",
    "    device = torch.device('cpu')\n",
    "    print(f'No GPU found ... Using CPU {device}')\n",
    "\n",
    "# Also set up a cpu device\n",
    "cpu = torch.device('cpu')"
   ]
  },
  {
   "cell_type": "markdown",
   "metadata": {},
   "source": [
    "## Set a random seed for Numpy and Torch\n",
    "> Will make sure we always sample in the same way. Makes it easier to compare results. At some point it should been removed to test the model stability."
   ]
  },
  {
   "cell_type": "code",
   "execution_count": 3,
   "metadata": {
    "scrolled": false
   },
   "outputs": [],
   "source": [
    "# Numpy\n",
    "np.random.seed(42)\n",
    "# Torch\n",
    "torch.manual_seed(42)\n",
    "torch.backends.cudnn.deterministic = True\n",
    "torch.backends.cudnn.benchmark = False"
   ]
  },
  {
   "cell_type": "markdown",
   "metadata": {},
   "source": [
    "## Define base feature and read the File\n",
    "The base features are features found in the input file. They need to be defined after which the file can be read using the `EnginePandasNumpy`. Using the `from_csv` method.\n",
    "The `from_csv` method will read the file and return a Pandas DataFrame object"
   ]
  },
  {
   "cell_type": "code",
   "execution_count": 4,
   "metadata": {
    "scrolled": false
   },
   "outputs": [],
   "source": [
    "# Change this to read from another location\n",
    "file = '../../../../data/bs140513_032310.csv'"
   ]
  },
  {
   "cell_type": "code",
   "execution_count": 5,
   "metadata": {
    "scrolled": false
   },
   "outputs": [
    {
     "name": "stderr",
     "output_type": "stream",
     "text": [
      "2020-10-25 11:58:58.560 d373c7.engines.common          INFO     Start Engine...\n",
      "2020-10-25 11:58:58.560 d373c7.engines.panda_numpy     INFO     Pandas Version : 1.1.2\n",
      "2020-10-25 11:58:58.561 d373c7.engines.panda_numpy     INFO     Numpy Version : 1.19.2\n",
      "2020-10-25 11:58:58.561 d373c7.engines.panda_numpy     INFO     Building Panda for : base from file ../../../../data/bs140513_032310.csv\n",
      "2020-10-25 11:58:58.769 d373c7.engines.panda_numpy     INFO     Building Panda for : <base> from DataFrame. Inference mode <False>\n",
      "2020-10-25 11:58:58.775 d373c7.engines.panda_numpy     INFO     Done creating base. Shape=(594643, 6)\n"
     ]
    },
    {
     "data": {
      "text/html": [
       "<div>\n",
       "<style scoped>\n",
       "    .dataframe tbody tr th:only-of-type {\n",
       "        vertical-align: middle;\n",
       "    }\n",
       "\n",
       "    .dataframe tbody tr th {\n",
       "        vertical-align: top;\n",
       "    }\n",
       "\n",
       "    .dataframe thead th {\n",
       "        text-align: right;\n",
       "    }\n",
       "</style>\n",
       "<table border=\"1\" class=\"dataframe\">\n",
       "  <thead>\n",
       "    <tr style=\"text-align: right;\">\n",
       "      <th></th>\n",
       "      <th>age</th>\n",
       "      <th>gender</th>\n",
       "      <th>merchant</th>\n",
       "      <th>category</th>\n",
       "      <th>amount</th>\n",
       "      <th>fraud</th>\n",
       "    </tr>\n",
       "  </thead>\n",
       "  <tbody>\n",
       "    <tr>\n",
       "      <th>0</th>\n",
       "      <td>4</td>\n",
       "      <td>M</td>\n",
       "      <td>M348934600</td>\n",
       "      <td>es_transportation</td>\n",
       "      <td>4.55</td>\n",
       "      <td>0</td>\n",
       "    </tr>\n",
       "    <tr>\n",
       "      <th>1</th>\n",
       "      <td>2</td>\n",
       "      <td>M</td>\n",
       "      <td>M348934600</td>\n",
       "      <td>es_transportation</td>\n",
       "      <td>39.68</td>\n",
       "      <td>0</td>\n",
       "    </tr>\n",
       "    <tr>\n",
       "      <th>2</th>\n",
       "      <td>4</td>\n",
       "      <td>F</td>\n",
       "      <td>M1823072687</td>\n",
       "      <td>es_transportation</td>\n",
       "      <td>26.89</td>\n",
       "      <td>0</td>\n",
       "    </tr>\n",
       "    <tr>\n",
       "      <th>3</th>\n",
       "      <td>3</td>\n",
       "      <td>M</td>\n",
       "      <td>M348934600</td>\n",
       "      <td>es_transportation</td>\n",
       "      <td>17.25</td>\n",
       "      <td>0</td>\n",
       "    </tr>\n",
       "    <tr>\n",
       "      <th>4</th>\n",
       "      <td>5</td>\n",
       "      <td>M</td>\n",
       "      <td>M348934600</td>\n",
       "      <td>es_transportation</td>\n",
       "      <td>35.72</td>\n",
       "      <td>0</td>\n",
       "    </tr>\n",
       "    <tr>\n",
       "      <th>...</th>\n",
       "      <td>...</td>\n",
       "      <td>...</td>\n",
       "      <td>...</td>\n",
       "      <td>...</td>\n",
       "      <td>...</td>\n",
       "      <td>...</td>\n",
       "    </tr>\n",
       "    <tr>\n",
       "      <th>594638</th>\n",
       "      <td>3</td>\n",
       "      <td>F</td>\n",
       "      <td>M1823072687</td>\n",
       "      <td>es_transportation</td>\n",
       "      <td>20.53</td>\n",
       "      <td>0</td>\n",
       "    </tr>\n",
       "    <tr>\n",
       "      <th>594639</th>\n",
       "      <td>4</td>\n",
       "      <td>F</td>\n",
       "      <td>M1823072687</td>\n",
       "      <td>es_transportation</td>\n",
       "      <td>50.73</td>\n",
       "      <td>0</td>\n",
       "    </tr>\n",
       "    <tr>\n",
       "      <th>594640</th>\n",
       "      <td>2</td>\n",
       "      <td>F</td>\n",
       "      <td>M349281107</td>\n",
       "      <td>es_fashion</td>\n",
       "      <td>22.44</td>\n",
       "      <td>0</td>\n",
       "    </tr>\n",
       "    <tr>\n",
       "      <th>594641</th>\n",
       "      <td>5</td>\n",
       "      <td>M</td>\n",
       "      <td>M1823072687</td>\n",
       "      <td>es_transportation</td>\n",
       "      <td>14.46</td>\n",
       "      <td>0</td>\n",
       "    </tr>\n",
       "    <tr>\n",
       "      <th>594642</th>\n",
       "      <td>4</td>\n",
       "      <td>F</td>\n",
       "      <td>M1823072687</td>\n",
       "      <td>es_transportation</td>\n",
       "      <td>26.93</td>\n",
       "      <td>0</td>\n",
       "    </tr>\n",
       "  </tbody>\n",
       "</table>\n",
       "<p>594643 rows × 6 columns</p>\n",
       "</div>"
      ],
      "text/plain": [
       "       age gender     merchant           category  amount  fraud\n",
       "0        4      M   M348934600  es_transportation    4.55      0\n",
       "1        2      M   M348934600  es_transportation   39.68      0\n",
       "2        4      F  M1823072687  es_transportation   26.89      0\n",
       "3        3      M   M348934600  es_transportation   17.25      0\n",
       "4        5      M   M348934600  es_transportation   35.72      0\n",
       "...     ..    ...          ...                ...     ...    ...\n",
       "594638   3      F  M1823072687  es_transportation   20.53      0\n",
       "594639   4      F  M1823072687  es_transportation   50.73      0\n",
       "594640   2      F   M349281107         es_fashion   22.44      0\n",
       "594641   5      M  M1823072687  es_transportation   14.46      0\n",
       "594642   4      F  M1823072687  es_transportation   26.93      0\n",
       "\n",
       "[594643 rows x 6 columns]"
      ]
     },
     "execution_count": 5,
     "metadata": {},
     "output_type": "execute_result"
    }
   ],
   "source": [
    "age = ft.FeatureSource('age', ft.FEATURE_TYPE_CATEGORICAL)\n",
    "gender = ft.FeatureSource('gender', ft.FEATURE_TYPE_CATEGORICAL)\n",
    "merchant = ft.FeatureSource('merchant', ft.FEATURE_TYPE_CATEGORICAL)\n",
    "category = ft.FeatureSource('category', ft.FEATURE_TYPE_CATEGORICAL)\n",
    "amount = ft.FeatureSource('amount', ft.FEATURE_TYPE_FLOAT)\n",
    "fraud = ft.FeatureSource('fraud', ft.FEATURE_TYPE_INT_8)\n",
    "\n",
    "base_features = ft.TensorDefinition(\n",
    "    'base', \n",
    "    [\n",
    "        age,\n",
    "        gender,\n",
    "        merchant,\n",
    "        category,\n",
    "        amount,\n",
    "        fraud\n",
    "    ])\n",
    "\n",
    "with en.EnginePandasNumpy() as e:\n",
    "    df = e.from_csv(base_features, file, inference=False)\n",
    "    \n",
    "df"
   ]
  },
  {
   "cell_type": "markdown",
   "metadata": {},
   "source": [
    "## Define some derived features\n",
    "After we've defined the source feature, we can define some derived features. Derived features apply a form of logic to the source features. The logic depends on the type of feature. The derived features can be created using the `EnginePandasNumpy` using the `from_df` method. \n",
    "The `from_df` method returns a Pandas DataFrame.\n",
    "\n",
    "In this example 2 conversion are used\n",
    "- The amount is scaled between 0 and 1.\n",
    "- The categorical features are turned into one-hot encodings. \n",
    "\n",
    "This will create a total of 77 features we can use in the model (-the fraud and -the index)"
   ]
  },
  {
   "cell_type": "code",
   "execution_count": 6,
   "metadata": {
    "scrolled": false
   },
   "outputs": [
    {
     "name": "stderr",
     "output_type": "stream",
     "text": [
      "2020-10-25 11:59:01.086 d373c7.engines.common          INFO     Start Engine...\n",
      "2020-10-25 11:59:01.087 d373c7.engines.panda_numpy     INFO     Pandas Version : 1.1.2\n",
      "2020-10-25 11:59:01.087 d373c7.engines.panda_numpy     INFO     Numpy Version : 1.19.2\n",
      "2020-10-25 11:59:01.087 d373c7.engines.panda_numpy     INFO     Building Panda for : <learning> from DataFrame. Inference mode <False>\n",
      "2020-10-25 11:59:01.176 d373c7.engines.panda_numpy     INFO     Create amount_scale Normalize/Scale amount. Min. 0.00 Max. 8329.96\n",
      "2020-10-25 11:59:01.216 d373c7.engines.panda_numpy     INFO     Done creating learning. Shape=(594643, 79)\n"
     ]
    },
    {
     "data": {
      "text/html": [
       "<div>\n",
       "<style scoped>\n",
       "    .dataframe tbody tr th:only-of-type {\n",
       "        vertical-align: middle;\n",
       "    }\n",
       "\n",
       "    .dataframe tbody tr th {\n",
       "        vertical-align: top;\n",
       "    }\n",
       "\n",
       "    .dataframe thead th {\n",
       "        text-align: right;\n",
       "    }\n",
       "</style>\n",
       "<table border=\"1\" class=\"dataframe\">\n",
       "  <thead>\n",
       "    <tr style=\"text-align: right;\">\n",
       "      <th></th>\n",
       "      <th>age__0</th>\n",
       "      <th>age__1</th>\n",
       "      <th>age__2</th>\n",
       "      <th>age__3</th>\n",
       "      <th>age__4</th>\n",
       "      <th>age__5</th>\n",
       "      <th>age__6</th>\n",
       "      <th>age__U</th>\n",
       "      <th>gender__E</th>\n",
       "      <th>gender__F</th>\n",
       "      <th>...</th>\n",
       "      <th>category__es_hyper</th>\n",
       "      <th>category__es_leisure</th>\n",
       "      <th>category__es_otherservices</th>\n",
       "      <th>category__es_sportsandtoys</th>\n",
       "      <th>category__es_tech</th>\n",
       "      <th>category__es_transportation</th>\n",
       "      <th>category__es_travel</th>\n",
       "      <th>category__es_wellnessandbeauty</th>\n",
       "      <th>amount_scale</th>\n",
       "      <th>fraud</th>\n",
       "    </tr>\n",
       "  </thead>\n",
       "  <tbody>\n",
       "    <tr>\n",
       "      <th>0</th>\n",
       "      <td>0</td>\n",
       "      <td>0</td>\n",
       "      <td>0</td>\n",
       "      <td>0</td>\n",
       "      <td>1</td>\n",
       "      <td>0</td>\n",
       "      <td>0</td>\n",
       "      <td>0</td>\n",
       "      <td>0</td>\n",
       "      <td>0</td>\n",
       "      <td>...</td>\n",
       "      <td>0</td>\n",
       "      <td>0</td>\n",
       "      <td>0</td>\n",
       "      <td>0</td>\n",
       "      <td>0</td>\n",
       "      <td>1</td>\n",
       "      <td>0</td>\n",
       "      <td>0</td>\n",
       "      <td>0.000546</td>\n",
       "      <td>0</td>\n",
       "    </tr>\n",
       "    <tr>\n",
       "      <th>1</th>\n",
       "      <td>0</td>\n",
       "      <td>0</td>\n",
       "      <td>1</td>\n",
       "      <td>0</td>\n",
       "      <td>0</td>\n",
       "      <td>0</td>\n",
       "      <td>0</td>\n",
       "      <td>0</td>\n",
       "      <td>0</td>\n",
       "      <td>0</td>\n",
       "      <td>...</td>\n",
       "      <td>0</td>\n",
       "      <td>0</td>\n",
       "      <td>0</td>\n",
       "      <td>0</td>\n",
       "      <td>0</td>\n",
       "      <td>1</td>\n",
       "      <td>0</td>\n",
       "      <td>0</td>\n",
       "      <td>0.004764</td>\n",
       "      <td>0</td>\n",
       "    </tr>\n",
       "    <tr>\n",
       "      <th>2</th>\n",
       "      <td>0</td>\n",
       "      <td>0</td>\n",
       "      <td>0</td>\n",
       "      <td>0</td>\n",
       "      <td>1</td>\n",
       "      <td>0</td>\n",
       "      <td>0</td>\n",
       "      <td>0</td>\n",
       "      <td>0</td>\n",
       "      <td>1</td>\n",
       "      <td>...</td>\n",
       "      <td>0</td>\n",
       "      <td>0</td>\n",
       "      <td>0</td>\n",
       "      <td>0</td>\n",
       "      <td>0</td>\n",
       "      <td>1</td>\n",
       "      <td>0</td>\n",
       "      <td>0</td>\n",
       "      <td>0.003228</td>\n",
       "      <td>0</td>\n",
       "    </tr>\n",
       "    <tr>\n",
       "      <th>3</th>\n",
       "      <td>0</td>\n",
       "      <td>0</td>\n",
       "      <td>0</td>\n",
       "      <td>1</td>\n",
       "      <td>0</td>\n",
       "      <td>0</td>\n",
       "      <td>0</td>\n",
       "      <td>0</td>\n",
       "      <td>0</td>\n",
       "      <td>0</td>\n",
       "      <td>...</td>\n",
       "      <td>0</td>\n",
       "      <td>0</td>\n",
       "      <td>0</td>\n",
       "      <td>0</td>\n",
       "      <td>0</td>\n",
       "      <td>1</td>\n",
       "      <td>0</td>\n",
       "      <td>0</td>\n",
       "      <td>0.002071</td>\n",
       "      <td>0</td>\n",
       "    </tr>\n",
       "    <tr>\n",
       "      <th>4</th>\n",
       "      <td>0</td>\n",
       "      <td>0</td>\n",
       "      <td>0</td>\n",
       "      <td>0</td>\n",
       "      <td>0</td>\n",
       "      <td>1</td>\n",
       "      <td>0</td>\n",
       "      <td>0</td>\n",
       "      <td>0</td>\n",
       "      <td>0</td>\n",
       "      <td>...</td>\n",
       "      <td>0</td>\n",
       "      <td>0</td>\n",
       "      <td>0</td>\n",
       "      <td>0</td>\n",
       "      <td>0</td>\n",
       "      <td>1</td>\n",
       "      <td>0</td>\n",
       "      <td>0</td>\n",
       "      <td>0.004288</td>\n",
       "      <td>0</td>\n",
       "    </tr>\n",
       "    <tr>\n",
       "      <th>...</th>\n",
       "      <td>...</td>\n",
       "      <td>...</td>\n",
       "      <td>...</td>\n",
       "      <td>...</td>\n",
       "      <td>...</td>\n",
       "      <td>...</td>\n",
       "      <td>...</td>\n",
       "      <td>...</td>\n",
       "      <td>...</td>\n",
       "      <td>...</td>\n",
       "      <td>...</td>\n",
       "      <td>...</td>\n",
       "      <td>...</td>\n",
       "      <td>...</td>\n",
       "      <td>...</td>\n",
       "      <td>...</td>\n",
       "      <td>...</td>\n",
       "      <td>...</td>\n",
       "      <td>...</td>\n",
       "      <td>...</td>\n",
       "      <td>...</td>\n",
       "    </tr>\n",
       "    <tr>\n",
       "      <th>594638</th>\n",
       "      <td>0</td>\n",
       "      <td>0</td>\n",
       "      <td>0</td>\n",
       "      <td>1</td>\n",
       "      <td>0</td>\n",
       "      <td>0</td>\n",
       "      <td>0</td>\n",
       "      <td>0</td>\n",
       "      <td>0</td>\n",
       "      <td>1</td>\n",
       "      <td>...</td>\n",
       "      <td>0</td>\n",
       "      <td>0</td>\n",
       "      <td>0</td>\n",
       "      <td>0</td>\n",
       "      <td>0</td>\n",
       "      <td>1</td>\n",
       "      <td>0</td>\n",
       "      <td>0</td>\n",
       "      <td>0.002465</td>\n",
       "      <td>0</td>\n",
       "    </tr>\n",
       "    <tr>\n",
       "      <th>594639</th>\n",
       "      <td>0</td>\n",
       "      <td>0</td>\n",
       "      <td>0</td>\n",
       "      <td>0</td>\n",
       "      <td>1</td>\n",
       "      <td>0</td>\n",
       "      <td>0</td>\n",
       "      <td>0</td>\n",
       "      <td>0</td>\n",
       "      <td>1</td>\n",
       "      <td>...</td>\n",
       "      <td>0</td>\n",
       "      <td>0</td>\n",
       "      <td>0</td>\n",
       "      <td>0</td>\n",
       "      <td>0</td>\n",
       "      <td>1</td>\n",
       "      <td>0</td>\n",
       "      <td>0</td>\n",
       "      <td>0.006090</td>\n",
       "      <td>0</td>\n",
       "    </tr>\n",
       "    <tr>\n",
       "      <th>594640</th>\n",
       "      <td>0</td>\n",
       "      <td>0</td>\n",
       "      <td>1</td>\n",
       "      <td>0</td>\n",
       "      <td>0</td>\n",
       "      <td>0</td>\n",
       "      <td>0</td>\n",
       "      <td>0</td>\n",
       "      <td>0</td>\n",
       "      <td>1</td>\n",
       "      <td>...</td>\n",
       "      <td>0</td>\n",
       "      <td>0</td>\n",
       "      <td>0</td>\n",
       "      <td>0</td>\n",
       "      <td>0</td>\n",
       "      <td>0</td>\n",
       "      <td>0</td>\n",
       "      <td>0</td>\n",
       "      <td>0.002694</td>\n",
       "      <td>0</td>\n",
       "    </tr>\n",
       "    <tr>\n",
       "      <th>594641</th>\n",
       "      <td>0</td>\n",
       "      <td>0</td>\n",
       "      <td>0</td>\n",
       "      <td>0</td>\n",
       "      <td>0</td>\n",
       "      <td>1</td>\n",
       "      <td>0</td>\n",
       "      <td>0</td>\n",
       "      <td>0</td>\n",
       "      <td>0</td>\n",
       "      <td>...</td>\n",
       "      <td>0</td>\n",
       "      <td>0</td>\n",
       "      <td>0</td>\n",
       "      <td>0</td>\n",
       "      <td>0</td>\n",
       "      <td>1</td>\n",
       "      <td>0</td>\n",
       "      <td>0</td>\n",
       "      <td>0.001736</td>\n",
       "      <td>0</td>\n",
       "    </tr>\n",
       "    <tr>\n",
       "      <th>594642</th>\n",
       "      <td>0</td>\n",
       "      <td>0</td>\n",
       "      <td>0</td>\n",
       "      <td>0</td>\n",
       "      <td>1</td>\n",
       "      <td>0</td>\n",
       "      <td>0</td>\n",
       "      <td>0</td>\n",
       "      <td>0</td>\n",
       "      <td>1</td>\n",
       "      <td>...</td>\n",
       "      <td>0</td>\n",
       "      <td>0</td>\n",
       "      <td>0</td>\n",
       "      <td>0</td>\n",
       "      <td>0</td>\n",
       "      <td>1</td>\n",
       "      <td>0</td>\n",
       "      <td>0</td>\n",
       "      <td>0.003233</td>\n",
       "      <td>0</td>\n",
       "    </tr>\n",
       "  </tbody>\n",
       "</table>\n",
       "<p>594643 rows × 79 columns</p>\n",
       "</div>"
      ],
      "text/plain": [
       "        age__0  age__1  age__2  age__3  age__4  age__5  age__6  age__U  \\\n",
       "0            0       0       0       0       1       0       0       0   \n",
       "1            0       0       1       0       0       0       0       0   \n",
       "2            0       0       0       0       1       0       0       0   \n",
       "3            0       0       0       1       0       0       0       0   \n",
       "4            0       0       0       0       0       1       0       0   \n",
       "...        ...     ...     ...     ...     ...     ...     ...     ...   \n",
       "594638       0       0       0       1       0       0       0       0   \n",
       "594639       0       0       0       0       1       0       0       0   \n",
       "594640       0       0       1       0       0       0       0       0   \n",
       "594641       0       0       0       0       0       1       0       0   \n",
       "594642       0       0       0       0       1       0       0       0   \n",
       "\n",
       "        gender__E  gender__F  ...  category__es_hyper  category__es_leisure  \\\n",
       "0               0          0  ...                   0                     0   \n",
       "1               0          0  ...                   0                     0   \n",
       "2               0          1  ...                   0                     0   \n",
       "3               0          0  ...                   0                     0   \n",
       "4               0          0  ...                   0                     0   \n",
       "...           ...        ...  ...                 ...                   ...   \n",
       "594638          0          1  ...                   0                     0   \n",
       "594639          0          1  ...                   0                     0   \n",
       "594640          0          1  ...                   0                     0   \n",
       "594641          0          0  ...                   0                     0   \n",
       "594642          0          1  ...                   0                     0   \n",
       "\n",
       "        category__es_otherservices  category__es_sportsandtoys  \\\n",
       "0                                0                           0   \n",
       "1                                0                           0   \n",
       "2                                0                           0   \n",
       "3                                0                           0   \n",
       "4                                0                           0   \n",
       "...                            ...                         ...   \n",
       "594638                           0                           0   \n",
       "594639                           0                           0   \n",
       "594640                           0                           0   \n",
       "594641                           0                           0   \n",
       "594642                           0                           0   \n",
       "\n",
       "        category__es_tech  category__es_transportation  category__es_travel  \\\n",
       "0                       0                            1                    0   \n",
       "1                       0                            1                    0   \n",
       "2                       0                            1                    0   \n",
       "3                       0                            1                    0   \n",
       "4                       0                            1                    0   \n",
       "...                   ...                          ...                  ...   \n",
       "594638                  0                            1                    0   \n",
       "594639                  0                            1                    0   \n",
       "594640                  0                            0                    0   \n",
       "594641                  0                            1                    0   \n",
       "594642                  0                            1                    0   \n",
       "\n",
       "        category__es_wellnessandbeauty  amount_scale  fraud  \n",
       "0                                    0      0.000546      0  \n",
       "1                                    0      0.004764      0  \n",
       "2                                    0      0.003228      0  \n",
       "3                                    0      0.002071      0  \n",
       "4                                    0      0.004288      0  \n",
       "...                                ...           ...    ...  \n",
       "594638                               0      0.002465      0  \n",
       "594639                               0      0.006090      0  \n",
       "594640                               0      0.002694      0  \n",
       "594641                               0      0.001736      0  \n",
       "594642                               0      0.003233      0  \n",
       "\n",
       "[594643 rows x 79 columns]"
      ]
     },
     "execution_count": 6,
     "metadata": {},
     "output_type": "execute_result"
    }
   ],
   "source": [
    "amount_scale = ft.FeatureNormalizeScale('amount_scale', ft.FEATURE_TYPE_FLOAT_32, amount)\n",
    "age_oh = ft.FeatureOneHot('age_one_hot', age)\n",
    "gender_oh = ft.FeatureOneHot('gender_one_hot', gender)\n",
    "merchant_oh = ft.FeatureOneHot('merchant_one_hot', merchant)\n",
    "category_oh = ft.FeatureOneHot('category_one_hot', category)\n",
    "\n",
    "learning_features = ft.TensorDefinition(\n",
    "    'learning', \n",
    "    [\n",
    "        age_oh,\n",
    "        gender_oh,\n",
    "        merchant_oh,\n",
    "        category_oh,\n",
    "        amount_scale,\n",
    "        fraud\n",
    "    ])\n",
    "\n",
    "with en.EnginePandasNumpy() as e:\n",
    "    df = e.from_df(learning_features, df, inference=False)\n",
    "df"
   ]
  },
  {
   "cell_type": "markdown",
   "metadata": {},
   "source": [
    "## Convert to Numpy\n",
    "Define which of the fields will be the label. __Do not forget this__\n",
    "\n",
    "Then convert the panda to a list of Numpy arrays. The list will have an entry for each of the Learning types. It will split out the Binary, Continuous, Categorical and Label. Each Learning type will have a list entry in the numpy list object\n",
    "\n",
    "This step is needed so the models understand how to use the variables "
   ]
  },
  {
   "cell_type": "code",
   "execution_count": 7,
   "metadata": {
    "scrolled": false
   },
   "outputs": [
    {
     "name": "stderr",
     "output_type": "stream",
     "text": [
      "2020-10-25 11:59:03.561 d373c7.engines.common          INFO     Start Engine...\n",
      "2020-10-25 11:59:03.561 d373c7.engines.panda_numpy     INFO     Pandas Version : 1.1.2\n",
      "2020-10-25 11:59:03.561 d373c7.engines.panda_numpy     INFO     Numpy Version : 1.19.2\n",
      "2020-10-25 11:59:03.561 d373c7.engines.panda_numpy     INFO     Converting DataFrame to Numpy of type: int8\n",
      "2020-10-25 11:59:03.562 d373c7.engines.panda_numpy     INFO     Reshaping DataFrame to: Binary\n",
      "2020-10-25 11:59:03.585 d373c7.engines.panda_numpy     INFO     Converting DataFrame to Numpy of type: float32\n",
      "2020-10-25 11:59:03.585 d373c7.engines.panda_numpy     INFO     Reshaping DataFrame to: Continuous\n",
      "2020-10-25 11:59:03.588 d373c7.engines.panda_numpy     INFO     Converting DataFrame to Numpy of type: int8\n",
      "2020-10-25 11:59:03.588 d373c7.engines.panda_numpy     INFO     Reshaping DataFrame to: Label\n"
     ]
    },
    {
     "name": "stdout",
     "output_type": "stream",
     "text": [
      "[(594643, 77), (594643,), (594643,)]\n",
      "['int8', 'float32', 'int8']\n"
     ]
    }
   ],
   "source": [
    "learning_features.set_label(fraud)\n",
    "with en.EnginePandasNumpy() as e:\n",
    "    data_list = e.to_numpy_list(learning_features, df)\n",
    "print(data_list.shapes)\n",
    "print(data_list.dtype_names)"
   ]
  },
  {
   "cell_type": "markdown",
   "metadata": {},
   "source": [
    "## Wrangle the data\n",
    "Time split the data. For time series data it is very important to keep the order of the data. This split will start from the end and work it's way to the front of the data. This way the training, validation and test data are nicely colocated in time\n",
    "\n",
    "> 1. Split out a training-set of size `test_records`. This is used for model testing.\n",
    "> 2. Split out a validation-set of size `validation_records`. It will be used to monitor overfitting during training\n",
    "> 3. All the rest is considered training data.\n",
    "\n"
   ]
  },
  {
   "cell_type": "code",
   "execution_count": 8,
   "metadata": {
    "scrolled": false
   },
   "outputs": [
    {
     "name": "stdout",
     "output_type": "stream",
     "text": [
      "Training Data shapes [(464643, 77), (464643,), (464643,)]\n",
      "Validation Data shapes [(30000, 77), (30000,), (30000,)]\n",
      "Test Data shapes [(100000, 77), (100000,), (100000,)]\n",
      "Done\n"
     ]
    }
   ],
   "source": [
    "test_records = 100000\n",
    "val_records  = 30000 \n",
    "\n",
    "train_data, val_data, test_data = data_list.split_time(val_records, test_records) \n",
    "\n",
    "print(f'Training Data shapes {train_data.shapes}')\n",
    "print(f'Validation Data shapes {val_data.shapes}')\n",
    "print(f'Test Data shapes {test_data.shapes}')\n",
    "del data_list\n",
    "gc.collect()\n",
    "print('Done')"
   ]
  },
  {
   "cell_type": "markdown",
   "metadata": {},
   "source": [
    "# Define Model\n",
    "\n",
    "\n",
    "The training data set has to be balanced for Neural Nets. To do this, the fraud class will be aggressively upsampled in the training phase by a custom `ClassSampler`. It oversamples the minority label until it matches the majority label. This may not be a good idea for a really large data sets.\n",
    "\n",
    "> 1. First set-up a NumpyListDataSet for both the training data-set and validation data-set. A NumpyListDataSet is a specialised `Pytorch Dataset` which keeps the data as numpy arrays in memory and converts on the fly to `Pytorch Tensors`\n",
    "> 2. Set-up a sampler for the training and for the validation set. Some prefer the validation set to have the original balance and do not over-sample it. However if the unbalance if fairly extreme it becomes difficult to spot over fitting unless the classses are balanced out.\n",
    "> 3. Wrap the dataset in a Pytorch Dataloader. `Dataloaders` allow the training loop to iterate over `Datasets`\n",
    "> 4. Create a model. Here the most basic __FeedforwardFraudClassifier__ is used. A __FeedforwardFraudClassifier__ takes a TensorDefinition as input, runs it through a series of Linear layers, it uses Binary Crossentropy loss. \n"
   ]
  },
  {
   "cell_type": "code",
   "execution_count": 9,
   "metadata": {
    "scrolled": false
   },
   "outputs": [
    {
     "name": "stdout",
     "output_type": "stream",
     "text": [
      "FeedForwardFraudClassifier(\n",
      "  Number of parameters : 1281\n",
      "  (head): TensorDefinitionHead(lcs=['Binary', 'Continuous'])\n",
      "  (linear): LinDropAct(\n",
      "    (layers): Sequential(\n",
      "      (0): Linear(in_features=78, out_features=16, bias=True)\n",
      "      (1): Dropout(p=0.1, inplace=False)\n",
      "      (2): ReLU(inplace=True)\n",
      "    )\n",
      "  )\n",
      "  (out): SingleClassBinaryOutput(\n",
      "    (out_block): Sequential(\n",
      "      (0): Linear(in_features=16, out_features=1, bias=True)\n",
      "      (1): Sigmoid()\n",
      "    )\n",
      "  )\n",
      ")\n"
     ]
    }
   ],
   "source": [
    "# Setup Pytorch Datasets for the training and validation\n",
    "batch_size = 128\n",
    "train_ds = pt.NumpyListDataSet(learning_features, train_data)\n",
    "val_ds = pt.NumpyListDataSet(learning_features, val_data)\n",
    "train_sampler = pt.ClassSampler(learning_features, train_data).over_sampler()\n",
    "val_sampler = pt.ClassSampler(learning_features, val_data).over_sampler()\n",
    "\n",
    "# Wrap them in a Pytorch Dataloader\n",
    "train_dl = train_ds.data_loader(cpu, batch_size, num_workers=2, sampler=train_sampler)\n",
    "val_dl = val_ds.data_loader(cpu, batch_size, num_workers=2, sampler=val_sampler)\n",
    "\n",
    "# Create a Model\n",
    "m = pm.FeedForwardFraudClassifier(learning_features)\n",
    "print(m)"
   ]
  },
  {
   "cell_type": "markdown",
   "metadata": {},
   "source": [
    "# Start Training"
   ]
  },
  {
   "cell_type": "markdown",
   "metadata": {},
   "source": [
    "### First find a decent Learning Rate. \n",
    "> Create a trainer and run the find_lr funtion and plot. This iterates over the batched from a minimum to a maximum learning rate. It tends to show where we can find a good learning rate. In this case at around 10e-3 we get a very steep decent. The model does not learn at lower than 10e-4. At around 10-2 is flattens out and explodes later. This can be validate by running with a higher number of iteration (more than 100)"
   ]
  },
  {
   "cell_type": "code",
   "execution_count": 11,
   "metadata": {
    "scrolled": false
   },
   "outputs": [
    {
     "name": "stderr",
     "output_type": "stream",
     "text": [
      "2020-10-25 12:07:20.504 d373c7.pytorch.training        INFO     Saving model under ./temp_model.pt\n",
      "Finding LR in 100 steps: 100%|██████████| 100/100 [00:00<00:00, 365.78it/s]\n",
      "2020-10-25 12:07:20.786 d373c7.pytorch.training        INFO     Restoring model from ./temp_model.pt\n"
     ]
    },
    {
     "data": {
      "image/png": "[encoded data removed]",
      "text/plain": [
       "<Figure size 432x288 with 1 Axes>"
      ]
     },
     "metadata": {},
     "output_type": "display_data"
    }
   ],
   "source": [
    "t = pt.Trainer(m, device, train_dl, val_dl)\n",
    "r = t.find_lr(1e-6, 1e-2, 100)\n",
    "pl.TrainPlot().plot_lr(r)"
   ]
  },
  {
   "cell_type": "markdown",
   "metadata": {},
   "source": [
    "## Start Training and plot the results\n",
    "> We train for __5 epochs__ and __learning rate 10e-3__. We see the model behaves fairly well during training. The loss goes up slightly in the middle of the training. This is the one_cycle logic which is reaching the max learning rate. "
   ]
  },
  {
   "cell_type": "code",
   "execution_count": 12,
   "metadata": {
    "scrolled": false
   },
   "outputs": [
    {
     "name": "stderr",
     "output_type": "stream",
     "text": [
      "Epoch 001/005: 100%|██████████| 3866/3866 [00:05<00:00, 679.65it/s, train_acc=0.959, train_loss=0.129, val_acc=0.978, val_loss=0.0574]\n",
      "Epoch 002/005: 100%|██████████| 3866/3866 [00:05<00:00, 690.64it/s, train_acc=0.975, train_loss=0.0619, val_acc=0.978, val_loss=0.0482]\n",
      "Epoch 003/005: 100%|██████████| 3866/3866 [00:05<00:00, 673.26it/s, train_acc=0.977, train_loss=0.058, val_acc=0.977, val_loss=0.05]\n",
      "Epoch 004/005: 100%|██████████| 3866/3866 [00:05<00:00, 693.66it/s, train_acc=0.978, train_loss=0.0552, val_acc=0.975, val_loss=0.0478]\n",
      "Epoch 005/005: 100%|██████████| 3866/3866 [00:05<00:00, 693.68it/s, train_acc=0.978, train_loss=0.0548, val_acc=0.978, val_loss=0.0436]\n"
     ]
    },
    {
     "data": {
      "image/png": "[encoded data removed]",
      "text/plain": [
       "<Figure size 720x720 with 2 Axes>"
      ]
     },
     "metadata": {},
     "output_type": "display_data"
    }
   ],
   "source": [
    "t = pt.Trainer(m, device, train_dl, val_dl)\n",
    "h = t.train_one_cycle(5, 10e-3)\n",
    "pl.TrainPlot().plot_history(h, fig_size=(10,10))"
   ]
  },
  {
   "cell_type": "markdown",
   "metadata": {},
   "source": [
    "# Test the model on the test data\n",
    "> Test the model on the test set. This model behaves fairly OK. It is really good at catching the fraud. It have a fairly low False Negative rate. (Lower left corner of the Confusion Matrix). But it also has a fairly large False Positive rate (Upper right corner of the Confusion Matrix."
   ]
  },
  {
   "cell_type": "code",
   "execution_count": 14,
   "metadata": {
    "scrolled": false
   },
   "outputs": [
    {
     "name": "stderr",
     "output_type": "stream",
     "text": [
      "Testing in 782 steps: 100%|██████████| 782/782 [00:00<00:00, 815.10it/s]\n"
     ]
    },
    {
     "name": "stdout",
     "output_type": "stream",
     "text": [
      "------------- Classification report -----------------\n",
      "              precision    recall  f1-score   support\n",
      "\n",
      "         0.0       1.00      0.98      0.99     98926\n",
      "         1.0       0.40      0.98      0.57      1074\n",
      "\n",
      "    accuracy                           0.98    100000\n",
      "   macro avg       0.70      0.98      0.78    100000\n",
      "weighted avg       0.99      0.98      0.99    100000\n",
      "\n",
      "\n",
      "auc score : 0.9987\n",
      "ap score  : 0.9255\n",
      "-----------------------------------------------------\n"
     ]
    },
    {
     "data": {
      "image/png": "[encoded data removed]",
      "text/plain": [
       "<Figure size 432x432 with 1 Axes>"
      ]
     },
     "metadata": {},
     "output_type": "display_data"
    },
    {
     "data": {
      "image/png": "[encoded data removed]",
      "text/plain": [
       "<Figure size 432x432 with 1 Axes>"
      ]
     },
     "metadata": {},
     "output_type": "display_data"
    },
    {
     "data": {
      "image/png": "[encoded data removed]",
      "text/plain": [
       "<Figure size 432x432 with 1 Axes>"
      ]
     },
     "metadata": {},
     "output_type": "display_data"
    }
   ],
   "source": [
    "test_ds = pt.NumpyListDataSet(learning_features, test_data)\n",
    "test_dl = test_ds.data_loader(cpu, 128, num_workers=2)\n",
    "\n",
    "ts = pt.Tester(m, device, test_dl)\n",
    "pr = ts.test_plot()\n",
    "tp = pl.TestPlot()\n",
    "tp.print_classification_report(pr)\n",
    "tp.plot_confusion_matrix(pr, fig_size=(6,6))\n",
    "tp.plot_roc_curve(pr, fig_size=(6,6))\n",
    "tp.plot_precision_recall_curve(pr, fig_size=(6,6))"
   ]
  }
 ],
 "metadata": {
  "kernelspec": {
   "display_name": "Python 3",
   "language": "python",
   "name": "python3"
  },
  "language_info": {
   "codemirror_mode": {
    "name": "ipython",
    "version": 3
   },
   "file_extension": ".py",
   "mimetype": "text/x-python",
   "name": "python",
   "nbconvert_exporter": "python",
   "pygments_lexer": "ipython3",
   "version": "3.8.5"
  }
 },
 "nbformat": 4,
 "nbformat_minor": 4
}
